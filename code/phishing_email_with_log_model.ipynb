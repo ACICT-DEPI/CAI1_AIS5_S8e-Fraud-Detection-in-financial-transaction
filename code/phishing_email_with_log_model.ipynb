{
  "cells": [
    {
      "cell_type": "code",
      "execution_count": 1,
      "metadata": {
        "id": "8p2UZLppsE_k"
      },
      "outputs": [],
      "source": [
        "import pandas as pd\n",
        "import numpy as np\n",
        "import matplotlib.pyplot as plt\n",
        "from sklearn.feature_extraction.text import TfidfVectorizer\n",
        "import nltk\n",
        "import re\n",
        "from sklearn.model_selection import train_test_split\n",
        "import joblib\n",
        "import spacy\n",
        "from sklearn.linear_model import LogisticRegression\n",
        "from sklearn import metrics\n",
        "import seaborn as sns\n",
        "from nltk.corpus import stopwords\n",
        "from nltk.tokenize import word_tokenize\n",
        "from sklearn.metrics import accuracy_score, confusion_matrix, classification_report, f1_score"
      ]
    },
    {
      "cell_type": "code",
      "execution_count": 2,
      "metadata": {
        "colab": {
          "base_uri": "https://localhost:8080/"
        },
        "id": "MQ8cd7h0zcoT",
        "outputId": "cffe4b8b-1865-4d19-a4fa-dd1b1213b0f1"
      },
      "outputs": [
        {
          "name": "stdout",
          "output_type": "stream",
          "text": [
            "Mounted at /content/drive\n"
          ]
        }
      ],
      "source": [
        "from google.colab import drive\n",
        "drive.mount('/content/drive')"
      ]
    },
    {
      "cell_type": "code",
      "execution_count": 3,
      "metadata": {
        "id": "c9Xw8djNzv3A"
      },
      "outputs": [],
      "source": [
        "import pandas as pd\n",
        "dataset_path = '/content/drive/MyDrive/datasets/phishing_email.csv'\n",
        "data = pd.read_csv(dataset_path)"
      ]
    },
    {
      "cell_type": "code",
      "execution_count": 4,
      "metadata": {
        "colab": {
          "base_uri": "https://localhost:8080/"
        },
        "id": "4NhVFNMJMUHW",
        "outputId": "df48e66e-ecb5-43a4-9da6-2d0392d3bdc7"
      },
      "outputs": [
        {
          "data": {
            "text/plain": [
              "(82486, 2)"
            ]
          },
          "execution_count": 4,
          "metadata": {},
          "output_type": "execute_result"
        }
      ],
      "source": [
        "data.shape"
      ]
    },
    {
      "cell_type": "code",
      "execution_count": 5,
      "metadata": {
        "colab": {
          "base_uri": "https://localhost:8080/",
          "height": 206
        },
        "id": "-Ux9bVECMVfd",
        "outputId": "71a5165f-2c39-444a-e8b4-05bc49f2d9f2"
      },
      "outputs": [
        {
          "data": {
            "application/vnd.google.colaboratory.intrinsic+json": {
              "summary": "{\n  \"name\": \"data\",\n  \"rows\": 82486,\n  \"fields\": [\n    {\n      \"column\": \"text_combined\",\n      \"properties\": {\n        \"dtype\": \"string\",\n        \"num_unique_values\": 82078,\n        \"samples\": [\n          \"garp 2001 convention invitation speak invitation speak garp 2001 2 nd annual risk management convention 13 th 14 th february 2001 marriott world trade center new york dear kaminski telephone conversation today secretary shirley crenshaw behalf global association risk professionals great pleasure inviting speak 2 nd annual risk management convention garp 2001 event rapidly establishing risk management industry important meeting point garp 2000 reflected key concerns risk management experts world wide 400 attendees first year three simultaneous streams address traditional pricing risk management techniques along specialised streams addressing new sectors corporate world insurance industry speaker panel 55 senior executive financial professionals investment banks regulatory bodies asset management firms academics insurers insurers corporate system providers financial risk management event year key areas convention consider include market risk stress testing liquidity jump diffusion evt credit risk regulation modeling stress testing credit portfolio management credit derivatives operational risk regulation data modeling validation evt advanced asset liability management corporate energy risk management insurance capital markets research discussions experts arena name highly recommended speaker event stream corporate energy risk management mind one sessions also topic titles provisional open suggested alterations corporate energy risk management modelling corporate risk risk management shareholder value perspective measuring energy risk tackling price volatility adapting var scenario modelling regulatory requirements forward pricing construction forward curve correlations transparency issues volatility challenge modelling price volatility examining new products designed stabilise volatility energy credit risk management garp profit independent organisation risk management practitioners researchers leading financial institutions world wide garp mission facilitate exchange information developing educational programs promoting standards area financial risk management information please refer web site www garp com sincerely hope able accept invitation look forward hearing due course questions please hesitate contact otherwise call discuss best regards andreas ps also attached copy garps 2000 program attention _ _ _ _ _ _ _ _ _ _ _ _ _ _ _ _ _ _ _ _ _ _ _ _ _ _ _ _ andreas simou garp 2001 conference producer tel 44 0 20 7626 9301 fax 44 0 20 7626 9900 draft programme doc g 2000 b wlowr pdf\",\n          \"fly macromedia xp pro sp 2 adobe photoshop ms office 2 oo 3 acrobat norton raise find companion profession parents drew popular softwwares start 20 vf windows xp pro sp 2 microsoft office 2003 system pro 5 cds adobe photoshop cs 8 0 ogt adobe acrobat 7 0 professional autocad 2005 dmd symantec norton systemworks dvdxcopy platinum 4 0 38 quickbooks 2004 premier edition macromedia studio mx 2004 microsoft office system professional 2003 norton antivirus 2005 adobe pagemaker 7 01 beingpromised order ur softwares different turning steps already development disappoint mentioned slow raise tying least make back find\",\n          \"mr kala kabila kkkabila2003yahoocom kalla kabila johannesburg south africa dear sir know surprise receive lette letter request family dare need asistance kalla kabila democratic republic congo drc son mrs mercy kabila youngest wife late president laurent kabila murdered recently got name address business desk chamber commerce industry johannesburg behalf widowed mother mrs mercy kabila decided solicit assistance president laurent kabila got married mother widow currently residing johannesburg south africa child woman death willed us certain portion wealth including amount fund due love mother fund us24m twenty four million united states dollars deposited box one well rec ognized security company south africa valuables instructed us solicit assistance reliable sincere foreign partner assist us transfer money south africa investment purposes fortunately enough mother late president people aware moreover box deposited name claim alone deposited secret code mother still documents therefore need assistance transferring huge sum ofus24m twenty four million united states dollars inherited late father personal companys account please bear mind entire life future mother depend fund grateful assist us live south africa asylum seekers due circumstances behind fund family crisis invest money south africa fo r effort prepared offer 20 total su whi le 10 set aside expenses incurred transaction please note transaction 100 risk free major thing demand assurance safety money finally gets information arrangement commence soon trust confidence good relationship established shall grateful maintain confidentiality matter please confirm interest via email address dont forget drop phone fax number easeir communication best regards kalla kabila tue 20 apr 2004 140312 0400 need help\"\n        ],\n        \"semantic_type\": \"\",\n        \"description\": \"\"\n      }\n    },\n    {\n      \"column\": \"label\",\n      \"properties\": {\n        \"dtype\": \"number\",\n        \"std\": 0,\n        \"min\": 0,\n        \"max\": 1,\n        \"num_unique_values\": 2,\n        \"samples\": [\n          1,\n          0\n        ],\n        \"semantic_type\": \"\",\n        \"description\": \"\"\n      }\n    }\n  ]\n}",
              "type": "dataframe",
              "variable_name": "data"
            },
            "text/html": [
              "\n",
              "  <div id=\"df-28185105-4086-4a0d-9310-33b25db6d58e\" class=\"colab-df-container\">\n",
              "    <div>\n",
              "<style scoped>\n",
              "    .dataframe tbody tr th:only-of-type {\n",
              "        vertical-align: middle;\n",
              "    }\n",
              "\n",
              "    .dataframe tbody tr th {\n",
              "        vertical-align: top;\n",
              "    }\n",
              "\n",
              "    .dataframe thead th {\n",
              "        text-align: right;\n",
              "    }\n",
              "</style>\n",
              "<table border=\"1\" class=\"dataframe\">\n",
              "  <thead>\n",
              "    <tr style=\"text-align: right;\">\n",
              "      <th></th>\n",
              "      <th>text_combined</th>\n",
              "      <th>label</th>\n",
              "    </tr>\n",
              "  </thead>\n",
              "  <tbody>\n",
              "    <tr>\n",
              "      <th>0</th>\n",
              "      <td>hpl nom may 25 2001 see attached file hplno 52...</td>\n",
              "      <td>0</td>\n",
              "    </tr>\n",
              "    <tr>\n",
              "      <th>1</th>\n",
              "      <td>nom actual vols 24 th forwarded sabrae zajac h...</td>\n",
              "      <td>0</td>\n",
              "    </tr>\n",
              "    <tr>\n",
              "      <th>2</th>\n",
              "      <td>enron actuals march 30 april 1 201 estimated a...</td>\n",
              "      <td>0</td>\n",
              "    </tr>\n",
              "    <tr>\n",
              "      <th>3</th>\n",
              "      <td>hpl nom may 30 2001 see attached file hplno 53...</td>\n",
              "      <td>0</td>\n",
              "    </tr>\n",
              "    <tr>\n",
              "      <th>4</th>\n",
              "      <td>hpl nom june 1 2001 see attached file hplno 60...</td>\n",
              "      <td>0</td>\n",
              "    </tr>\n",
              "  </tbody>\n",
              "</table>\n",
              "</div>\n",
              "    <div class=\"colab-df-buttons\">\n",
              "\n",
              "  <div class=\"colab-df-container\">\n",
              "    <button class=\"colab-df-convert\" onclick=\"convertToInteractive('df-28185105-4086-4a0d-9310-33b25db6d58e')\"\n",
              "            title=\"Convert this dataframe to an interactive table.\"\n",
              "            style=\"display:none;\">\n",
              "\n",
              "  <svg xmlns=\"http://www.w3.org/2000/svg\" height=\"24px\" viewBox=\"0 -960 960 960\">\n",
              "    <path d=\"M120-120v-720h720v720H120Zm60-500h600v-160H180v160Zm220 220h160v-160H400v160Zm0 220h160v-160H400v160ZM180-400h160v-160H180v160Zm440 0h160v-160H620v160ZM180-180h160v-160H180v160Zm440 0h160v-160H620v160Z\"/>\n",
              "  </svg>\n",
              "    </button>\n",
              "\n",
              "  <style>\n",
              "    .colab-df-container {\n",
              "      display:flex;\n",
              "      gap: 12px;\n",
              "    }\n",
              "\n",
              "    .colab-df-convert {\n",
              "      background-color: #E8F0FE;\n",
              "      border: none;\n",
              "      border-radius: 50%;\n",
              "      cursor: pointer;\n",
              "      display: none;\n",
              "      fill: #1967D2;\n",
              "      height: 32px;\n",
              "      padding: 0 0 0 0;\n",
              "      width: 32px;\n",
              "    }\n",
              "\n",
              "    .colab-df-convert:hover {\n",
              "      background-color: #E2EBFA;\n",
              "      box-shadow: 0px 1px 2px rgba(60, 64, 67, 0.3), 0px 1px 3px 1px rgba(60, 64, 67, 0.15);\n",
              "      fill: #174EA6;\n",
              "    }\n",
              "\n",
              "    .colab-df-buttons div {\n",
              "      margin-bottom: 4px;\n",
              "    }\n",
              "\n",
              "    [theme=dark] .colab-df-convert {\n",
              "      background-color: #3B4455;\n",
              "      fill: #D2E3FC;\n",
              "    }\n",
              "\n",
              "    [theme=dark] .colab-df-convert:hover {\n",
              "      background-color: #434B5C;\n",
              "      box-shadow: 0px 1px 3px 1px rgba(0, 0, 0, 0.15);\n",
              "      filter: drop-shadow(0px 1px 2px rgba(0, 0, 0, 0.3));\n",
              "      fill: #FFFFFF;\n",
              "    }\n",
              "  </style>\n",
              "\n",
              "    <script>\n",
              "      const buttonEl =\n",
              "        document.querySelector('#df-28185105-4086-4a0d-9310-33b25db6d58e button.colab-df-convert');\n",
              "      buttonEl.style.display =\n",
              "        google.colab.kernel.accessAllowed ? 'block' : 'none';\n",
              "\n",
              "      async function convertToInteractive(key) {\n",
              "        const element = document.querySelector('#df-28185105-4086-4a0d-9310-33b25db6d58e');\n",
              "        const dataTable =\n",
              "          await google.colab.kernel.invokeFunction('convertToInteractive',\n",
              "                                                    [key], {});\n",
              "        if (!dataTable) return;\n",
              "\n",
              "        const docLinkHtml = 'Like what you see? Visit the ' +\n",
              "          '<a target=\"_blank\" href=https://colab.research.google.com/notebooks/data_table.ipynb>data table notebook</a>'\n",
              "          + ' to learn more about interactive tables.';\n",
              "        element.innerHTML = '';\n",
              "        dataTable['output_type'] = 'display_data';\n",
              "        await google.colab.output.renderOutput(dataTable, element);\n",
              "        const docLink = document.createElement('div');\n",
              "        docLink.innerHTML = docLinkHtml;\n",
              "        element.appendChild(docLink);\n",
              "      }\n",
              "    </script>\n",
              "  </div>\n",
              "\n",
              "\n",
              "<div id=\"df-48381f15-2387-4cbf-916a-2309646d591d\">\n",
              "  <button class=\"colab-df-quickchart\" onclick=\"quickchart('df-48381f15-2387-4cbf-916a-2309646d591d')\"\n",
              "            title=\"Suggest charts\"\n",
              "            style=\"display:none;\">\n",
              "\n",
              "<svg xmlns=\"http://www.w3.org/2000/svg\" height=\"24px\"viewBox=\"0 0 24 24\"\n",
              "     width=\"24px\">\n",
              "    <g>\n",
              "        <path d=\"M19 3H5c-1.1 0-2 .9-2 2v14c0 1.1.9 2 2 2h14c1.1 0 2-.9 2-2V5c0-1.1-.9-2-2-2zM9 17H7v-7h2v7zm4 0h-2V7h2v10zm4 0h-2v-4h2v4z\"/>\n",
              "    </g>\n",
              "</svg>\n",
              "  </button>\n",
              "\n",
              "<style>\n",
              "  .colab-df-quickchart {\n",
              "      --bg-color: #E8F0FE;\n",
              "      --fill-color: #1967D2;\n",
              "      --hover-bg-color: #E2EBFA;\n",
              "      --hover-fill-color: #174EA6;\n",
              "      --disabled-fill-color: #AAA;\n",
              "      --disabled-bg-color: #DDD;\n",
              "  }\n",
              "\n",
              "  [theme=dark] .colab-df-quickchart {\n",
              "      --bg-color: #3B4455;\n",
              "      --fill-color: #D2E3FC;\n",
              "      --hover-bg-color: #434B5C;\n",
              "      --hover-fill-color: #FFFFFF;\n",
              "      --disabled-bg-color: #3B4455;\n",
              "      --disabled-fill-color: #666;\n",
              "  }\n",
              "\n",
              "  .colab-df-quickchart {\n",
              "    background-color: var(--bg-color);\n",
              "    border: none;\n",
              "    border-radius: 50%;\n",
              "    cursor: pointer;\n",
              "    display: none;\n",
              "    fill: var(--fill-color);\n",
              "    height: 32px;\n",
              "    padding: 0;\n",
              "    width: 32px;\n",
              "  }\n",
              "\n",
              "  .colab-df-quickchart:hover {\n",
              "    background-color: var(--hover-bg-color);\n",
              "    box-shadow: 0 1px 2px rgba(60, 64, 67, 0.3), 0 1px 3px 1px rgba(60, 64, 67, 0.15);\n",
              "    fill: var(--button-hover-fill-color);\n",
              "  }\n",
              "\n",
              "  .colab-df-quickchart-complete:disabled,\n",
              "  .colab-df-quickchart-complete:disabled:hover {\n",
              "    background-color: var(--disabled-bg-color);\n",
              "    fill: var(--disabled-fill-color);\n",
              "    box-shadow: none;\n",
              "  }\n",
              "\n",
              "  .colab-df-spinner {\n",
              "    border: 2px solid var(--fill-color);\n",
              "    border-color: transparent;\n",
              "    border-bottom-color: var(--fill-color);\n",
              "    animation:\n",
              "      spin 1s steps(1) infinite;\n",
              "  }\n",
              "\n",
              "  @keyframes spin {\n",
              "    0% {\n",
              "      border-color: transparent;\n",
              "      border-bottom-color: var(--fill-color);\n",
              "      border-left-color: var(--fill-color);\n",
              "    }\n",
              "    20% {\n",
              "      border-color: transparent;\n",
              "      border-left-color: var(--fill-color);\n",
              "      border-top-color: var(--fill-color);\n",
              "    }\n",
              "    30% {\n",
              "      border-color: transparent;\n",
              "      border-left-color: var(--fill-color);\n",
              "      border-top-color: var(--fill-color);\n",
              "      border-right-color: var(--fill-color);\n",
              "    }\n",
              "    40% {\n",
              "      border-color: transparent;\n",
              "      border-right-color: var(--fill-color);\n",
              "      border-top-color: var(--fill-color);\n",
              "    }\n",
              "    60% {\n",
              "      border-color: transparent;\n",
              "      border-right-color: var(--fill-color);\n",
              "    }\n",
              "    80% {\n",
              "      border-color: transparent;\n",
              "      border-right-color: var(--fill-color);\n",
              "      border-bottom-color: var(--fill-color);\n",
              "    }\n",
              "    90% {\n",
              "      border-color: transparent;\n",
              "      border-bottom-color: var(--fill-color);\n",
              "    }\n",
              "  }\n",
              "</style>\n",
              "\n",
              "  <script>\n",
              "    async function quickchart(key) {\n",
              "      const quickchartButtonEl =\n",
              "        document.querySelector('#' + key + ' button');\n",
              "      quickchartButtonEl.disabled = true;  // To prevent multiple clicks.\n",
              "      quickchartButtonEl.classList.add('colab-df-spinner');\n",
              "      try {\n",
              "        const charts = await google.colab.kernel.invokeFunction(\n",
              "            'suggestCharts', [key], {});\n",
              "      } catch (error) {\n",
              "        console.error('Error during call to suggestCharts:', error);\n",
              "      }\n",
              "      quickchartButtonEl.classList.remove('colab-df-spinner');\n",
              "      quickchartButtonEl.classList.add('colab-df-quickchart-complete');\n",
              "    }\n",
              "    (() => {\n",
              "      let quickchartButtonEl =\n",
              "        document.querySelector('#df-48381f15-2387-4cbf-916a-2309646d591d button');\n",
              "      quickchartButtonEl.style.display =\n",
              "        google.colab.kernel.accessAllowed ? 'block' : 'none';\n",
              "    })();\n",
              "  </script>\n",
              "</div>\n",
              "\n",
              "    </div>\n",
              "  </div>\n"
            ],
            "text/plain": [
              "                                       text_combined  label\n",
              "0  hpl nom may 25 2001 see attached file hplno 52...      0\n",
              "1  nom actual vols 24 th forwarded sabrae zajac h...      0\n",
              "2  enron actuals march 30 april 1 201 estimated a...      0\n",
              "3  hpl nom may 30 2001 see attached file hplno 53...      0\n",
              "4  hpl nom june 1 2001 see attached file hplno 60...      0"
            ]
          },
          "execution_count": 5,
          "metadata": {},
          "output_type": "execute_result"
        }
      ],
      "source": [
        "data.head()"
      ]
    },
    {
      "cell_type": "code",
      "execution_count": 6,
      "metadata": {
        "colab": {
          "base_uri": "https://localhost:8080/"
        },
        "id": "Y5EvvpIfrV-n",
        "outputId": "daa4d4aa-20bc-4d53-9db3-91af24cce48a"
      },
      "outputs": [
        {
          "name": "stdout",
          "output_type": "stream",
          "text": [
            "<class 'pandas.core.frame.DataFrame'>\n",
            "RangeIndex: 82486 entries, 0 to 82485\n",
            "Data columns (total 2 columns):\n",
            " #   Column         Non-Null Count  Dtype \n",
            "---  ------         --------------  ----- \n",
            " 0   text_combined  82486 non-null  object\n",
            " 1   label          82486 non-null  int64 \n",
            "dtypes: int64(1), object(1)\n",
            "memory usage: 1.3+ MB\n"
          ]
        }
      ],
      "source": [
        "data.info()"
      ]
    },
    {
      "cell_type": "code",
      "execution_count": 7,
      "metadata": {
        "colab": {
          "base_uri": "https://localhost:8080/",
          "height": 147
        },
        "id": "V1p7woz6rSLa",
        "outputId": "cb304ba4-f059-4d99-d4bf-feda019cec88"
      },
      "outputs": [
        {
          "data": {
            "text/html": [
              "<div>\n",
              "<style scoped>\n",
              "    .dataframe tbody tr th:only-of-type {\n",
              "        vertical-align: middle;\n",
              "    }\n",
              "\n",
              "    .dataframe tbody tr th {\n",
              "        vertical-align: top;\n",
              "    }\n",
              "\n",
              "    .dataframe thead th {\n",
              "        text-align: right;\n",
              "    }\n",
              "</style>\n",
              "<table border=\"1\" class=\"dataframe\">\n",
              "  <thead>\n",
              "    <tr style=\"text-align: right;\">\n",
              "      <th></th>\n",
              "      <th>0</th>\n",
              "    </tr>\n",
              "  </thead>\n",
              "  <tbody>\n",
              "    <tr>\n",
              "      <th>text_combined</th>\n",
              "      <td>0</td>\n",
              "    </tr>\n",
              "    <tr>\n",
              "      <th>label</th>\n",
              "      <td>0</td>\n",
              "    </tr>\n",
              "  </tbody>\n",
              "</table>\n",
              "</div><br><label><b>dtype:</b> int64</label>"
            ],
            "text/plain": [
              "text_combined    0\n",
              "label            0\n",
              "dtype: int64"
            ]
          },
          "execution_count": 7,
          "metadata": {},
          "output_type": "execute_result"
        }
      ],
      "source": [
        "data.isnull().sum()"
      ]
    },
    {
      "cell_type": "code",
      "execution_count": 8,
      "metadata": {
        "colab": {
          "base_uri": "https://localhost:8080/"
        },
        "id": "mOYGxTI2rVZp",
        "outputId": "1ed40634-907e-4e5d-8fc0-fad1a9a0523d"
      },
      "outputs": [
        {
          "data": {
            "text/plain": [
              "408"
            ]
          },
          "execution_count": 8,
          "metadata": {},
          "output_type": "execute_result"
        }
      ],
      "source": [
        "data.duplicated().sum()"
      ]
    },
    {
      "cell_type": "code",
      "execution_count": 9,
      "metadata": {
        "id": "72SoWoW2rgNN"
      },
      "outputs": [],
      "source": [
        "data.drop_duplicates(inplace=True)"
      ]
    },
    {
      "cell_type": "code",
      "execution_count": 10,
      "metadata": {
        "colab": {
          "base_uri": "https://localhost:8080/"
        },
        "id": "sqczPY4WridC",
        "outputId": "fe326d28-ad37-4ea0-de5a-2e3bef9b8621"
      },
      "outputs": [
        {
          "data": {
            "text/plain": [
              "0"
            ]
          },
          "execution_count": 10,
          "metadata": {},
          "output_type": "execute_result"
        }
      ],
      "source": [
        "data.duplicated().sum()"
      ]
    },
    {
      "cell_type": "code",
      "execution_count": 11,
      "metadata": {
        "colab": {
          "base_uri": "https://localhost:8080/",
          "height": 178
        },
        "id": "fIKQBqC6rjox",
        "outputId": "e4cbf38d-6d4f-46fe-e3d4-a150c0b06215"
      },
      "outputs": [
        {
          "data": {
            "text/html": [
              "<div>\n",
              "<style scoped>\n",
              "    .dataframe tbody tr th:only-of-type {\n",
              "        vertical-align: middle;\n",
              "    }\n",
              "\n",
              "    .dataframe tbody tr th {\n",
              "        vertical-align: top;\n",
              "    }\n",
              "\n",
              "    .dataframe thead th {\n",
              "        text-align: right;\n",
              "    }\n",
              "</style>\n",
              "<table border=\"1\" class=\"dataframe\">\n",
              "  <thead>\n",
              "    <tr style=\"text-align: right;\">\n",
              "      <th></th>\n",
              "      <th>count</th>\n",
              "    </tr>\n",
              "    <tr>\n",
              "      <th>label</th>\n",
              "      <th></th>\n",
              "    </tr>\n",
              "  </thead>\n",
              "  <tbody>\n",
              "    <tr>\n",
              "      <th>1</th>\n",
              "      <td>42845</td>\n",
              "    </tr>\n",
              "    <tr>\n",
              "      <th>0</th>\n",
              "      <td>39233</td>\n",
              "    </tr>\n",
              "  </tbody>\n",
              "</table>\n",
              "</div><br><label><b>dtype:</b> int64</label>"
            ],
            "text/plain": [
              "label\n",
              "1    42845\n",
              "0    39233\n",
              "Name: count, dtype: int64"
            ]
          },
          "execution_count": 11,
          "metadata": {},
          "output_type": "execute_result"
        }
      ],
      "source": [
        "\n",
        "data['label'].value_counts()"
      ]
    },
    {
      "cell_type": "code",
      "execution_count": 12,
      "metadata": {
        "colab": {
          "base_uri": "https://localhost:8080/"
        },
        "id": "pxCtL46BEt8n",
        "outputId": "b6df961e-73f3-4f50-caa6-10228a9c23cd"
      },
      "outputs": [
        {
          "name": "stderr",
          "output_type": "stream",
          "text": [
            "[nltk_data] Downloading package punkt to /root/nltk_data...\n",
            "[nltk_data]   Unzipping tokenizers/punkt.zip.\n",
            "[nltk_data] Downloading package stopwords to /root/nltk_data...\n",
            "[nltk_data]   Unzipping corpora/stopwords.zip.\n"
          ]
        },
        {
          "data": {
            "text/plain": [
              "True"
            ]
          },
          "execution_count": 12,
          "metadata": {},
          "output_type": "execute_result"
        }
      ],
      "source": [
        "nltk.download('punkt', force=True)\n",
        "nltk.download('stopwords')"
      ]
    },
    {
      "cell_type": "code",
      "execution_count": 13,
      "metadata": {
        "id": "kGLaH1OKz0fP"
      },
      "outputs": [],
      "source": [
        "def preprocess_text(text):\n",
        "        # Remove hyperlinks\n",
        "        text = re.sub(r'http\\S+', '', text)\n",
        "\n",
        "        # Remove punctuations\n",
        "        text = re.sub(r'[^\\w\\s]', '', text)\n",
        "\n",
        "        # remove special characters\n",
        "        text = re.sub(r'[^a-zA-Z0-9\\s]', '', text)\n",
        "\n",
        "        # Convert to lowercase\n",
        "        text = text.lower()\n",
        "\n",
        "        # Remove extra spaces\n",
        "        text = re.sub(r'\\s+', ' ', text).strip()\n",
        "\n",
        "        stop_words = set(stopwords.words('english'))\n",
        "        tokens = word_tokenize(text.lower())\n",
        "        tokens = [word for word in tokens if word.isalpha() and word not in stop_words]\n",
        "        return ' '.join(tokens)\n",
        "\n",
        "# Apply the preprocess_text function to the subject and body column in the DataFrame\n",
        "data['text_combined'] = data['text_combined'].apply(preprocess_text)"
      ]
    },
    {
      "cell_type": "code",
      "execution_count": 14,
      "metadata": {
        "colab": {
          "base_uri": "https://localhost:8080/",
          "height": 241
        },
        "id": "agjFfZBQ0FR9",
        "outputId": "550a29df-651f-41ee-da40-f942166930aa"
      },
      "outputs": [
        {
          "data": {
            "text/html": [
              "<div>\n",
              "<style scoped>\n",
              "    .dataframe tbody tr th:only-of-type {\n",
              "        vertical-align: middle;\n",
              "    }\n",
              "\n",
              "    .dataframe tbody tr th {\n",
              "        vertical-align: top;\n",
              "    }\n",
              "\n",
              "    .dataframe thead th {\n",
              "        text-align: right;\n",
              "    }\n",
              "</style>\n",
              "<table border=\"1\" class=\"dataframe\">\n",
              "  <thead>\n",
              "    <tr style=\"text-align: right;\">\n",
              "      <th></th>\n",
              "      <th>text_combined</th>\n",
              "    </tr>\n",
              "  </thead>\n",
              "  <tbody>\n",
              "    <tr>\n",
              "      <th>0</th>\n",
              "      <td>hpl nom may see attached file hplno xls hplno xls</td>\n",
              "    </tr>\n",
              "    <tr>\n",
              "      <th>1</th>\n",
              "      <td>nom actual vols th forwarded sabrae zajac hou ...</td>\n",
              "    </tr>\n",
              "    <tr>\n",
              "      <th>2</th>\n",
              "      <td>enron actuals march april estimated actuals ma...</td>\n",
              "    </tr>\n",
              "    <tr>\n",
              "      <th>3</th>\n",
              "      <td>hpl nom may see attached file hplno xls hplno xls</td>\n",
              "    </tr>\n",
              "    <tr>\n",
              "      <th>4</th>\n",
              "      <td>hpl nom june see attached file hplno xls hplno...</td>\n",
              "    </tr>\n",
              "  </tbody>\n",
              "</table>\n",
              "</div><br><label><b>dtype:</b> object</label>"
            ],
            "text/plain": [
              "0    hpl nom may see attached file hplno xls hplno xls\n",
              "1    nom actual vols th forwarded sabrae zajac hou ...\n",
              "2    enron actuals march april estimated actuals ma...\n",
              "3    hpl nom may see attached file hplno xls hplno xls\n",
              "4    hpl nom june see attached file hplno xls hplno...\n",
              "Name: text_combined, dtype: object"
            ]
          },
          "execution_count": 14,
          "metadata": {},
          "output_type": "execute_result"
        }
      ],
      "source": [
        "data['text_combined'].head()"
      ]
    },
    {
      "cell_type": "code",
      "execution_count": 15,
      "metadata": {
        "id": "CbQosbF-rnUY"
      },
      "outputs": [],
      "source": [
        "# Separate features (email text) and target (labels)\n",
        "X = data['text_combined']\n",
        "y = data['label']\n",
        "\n",
        "# Split the data into training and testing sets\n",
        "X_train, X_test, y_train, y_test = train_test_split(X, y, test_size=0.2, random_state=42, stratify=y)"
      ]
    },
    {
      "cell_type": "code",
      "execution_count": 16,
      "metadata": {
        "id": "zLfsINMaslVc"
      },
      "outputs": [],
      "source": [
        "# TF-IDF Vectorization for traditional models\n",
        "tfidf = TfidfVectorizer()\n",
        "X_train_tfidf = tfidf.fit_transform(X_train)\n",
        "X_test_tfidf = tfidf.transform(X_test)"
      ]
    },
    {
      "cell_type": "code",
      "execution_count": 17,
      "metadata": {
        "colab": {
          "base_uri": "https://localhost:8080/"
        },
        "id": "9hALy3vpvYPt",
        "outputId": "e6d5a512-bcf0-4599-fb70-267b8dc88531"
      },
      "outputs": [
        {
          "name": "stdout",
          "output_type": "stream",
          "text": [
            "X_train_tfidf shape is  (65662, 314894)\n",
            "y_train shape is  (65662,)\n",
            "X_test_tfidf shape is  (16416, 314894)\n",
            "y_test shape is  (16416,)\n"
          ]
        }
      ],
      "source": [
        "print('X_train_tfidf shape is ' , X_train_tfidf.shape)\n",
        "print('y_train shape is ' , y_train.shape)\n",
        "print('X_test_tfidf shape is ' , X_test_tfidf.shape)\n",
        "print('y_test shape is ' , y_test.shape)"
      ]
    },
    {
      "cell_type": "code",
      "execution_count": 18,
      "metadata": {
        "id": "Ijm1aFUIu3na"
      },
      "outputs": [],
      "source": [
        "log_model = LogisticRegression()\n",
        "log_model.fit(X_train_tfidf, y_train)\n",
        "y_pred = log_model.predict(X_test_tfidf)"
      ]
    },
    {
      "cell_type": "code",
      "execution_count": 19,
      "metadata": {
        "colab": {
          "base_uri": "https://localhost:8080/",
          "height": 539
        },
        "id": "LZDfERrdv2MT",
        "outputId": "055d8763-8235-42f5-ec05-d5ef0bea06ef"
      },
      "outputs": [
        {
          "name": "stdout",
          "output_type": "stream",
          "text": [
            "Accuracy :  0.9832480506822612\n",
            "precision :  0.9805330243337196\n",
            "Recall :  0.9875131287198039\n"
          ]
        },
        {
          "data": {
            "image/png": "[encoded data removed]",
            "text/plain": [
              "<Figure size 700x500 with 2 Axes>"
            ]
          },
          "metadata": {},
          "output_type": "display_data"
        }
      ],
      "source": [
        "print('Accuracy : ', metrics.accuracy_score(y_test, y_pred))\n",
        "print('precision : ', metrics.precision_score(y_test, y_pred))\n",
        "print('Recall : ', metrics.recall_score(y_test, y_pred))\n",
        "\n",
        "conf_matrix = metrics.confusion_matrix(y_test, y_pred)\n",
        "plt.figure(figsize=(7, 5))\n",
        "sns.heatmap(conf_matrix, annot=True, fmt='d', cmap='Blues',\n",
        "            xticklabels=['Fraud', 'not Fraud'],\n",
        "            yticklabels=['Fraud', 'not Fraud'])\n",
        "plt.xlabel('Predicted')\n",
        "plt.ylabel('Actual')\n",
        "plt.title('Confusion Matrix for Logistic Regression')\n",
        "plt.show()"
      ]
    },
    {
      "cell_type": "code",
      "execution_count": 20,
      "metadata": {
        "colab": {
          "base_uri": "https://localhost:8080/"
        },
        "id": "pKhLHTc5vyg2",
        "outputId": "b8fb30e3-663b-4b10-a147-ea4cfd9b29de"
      },
      "outputs": [
        {
          "name": "stdout",
          "output_type": "stream",
          "text": [
            "Classification Report:\n",
            "              precision    recall  f1-score   support\n",
            "\n",
            "           0       0.99      0.98      0.98      7847\n",
            "           1       0.98      0.99      0.98      8569\n",
            "\n",
            "    accuracy                           0.98     16416\n",
            "   macro avg       0.98      0.98      0.98     16416\n",
            "weighted avg       0.98      0.98      0.98     16416\n",
            "\n"
          ]
        }
      ],
      "source": [
        "print(f\"Classification Report:\\n{classification_report(y_test, y_pred)}\")"
      ]
    },
    {
      "cell_type": "markdown",
      "metadata": {
        "id": "z2pvqJi8DAlM"
      },
      "source": [
        "<!-- DEEP LEARNING -->"
      ]
    },
    {
      "cell_type": "code",
      "execution_count": 21,
      "metadata": {
        "colab": {
          "base_uri": "https://localhost:8080/"
        },
        "id": "4sgGQWDWNmDt",
        "outputId": "5185c634-4de8-4701-8a80-2d43bced137a"
      },
      "outputs": [
        {
          "data": {
            "text/plain": [
              "['/content/Log_model.pkl']"
            ]
          },
          "execution_count": 21,
          "metadata": {},
          "output_type": "execute_result"
        }
      ],
      "source": [
        "# save the model\n",
        "joblib.dump(log_model, '/content/Log_model.pkl')"
      ]
    },
    {
      "cell_type": "markdown",
      "metadata": {
        "id": "bw7ZXFfrmdhf"
      },
      "source": [
        "# Real data for model testing"
      ]
    },
    {
      "cell_type": "code",
      "execution_count": 22,
      "metadata": {
        "id": "R2nLdBt33rBa"
      },
      "outputs": [],
      "source": [
        "test_data_extended = {\n",
        "    'descriptor': [\n",
        "        \"Right To rent request\",\n",
        "        \"Unknown loan request\",\n",
        "        \"Email verification\",\n",
        "        \"Follow up with letting agency\",\n",
        "        \"Unknown loan approval!\",\n",
        "        \"Confirmation for a property view\",\n",
        "        \"Registration for Agency\",\n",
        "        \"Suspicious activity alert\",\n",
        "        \"Account deactivation warning\",\n",
        "        \"Secure your account\",\n",
        "        \"Prize-winning notification\",\n",
        "        \"Monthly billing statement\",\n",
        "        \"Job application confirmation\",\n",
        "        \"Payment overdue reminder\",\n",
        "        \"Password reset request\",\n",
        "        \"Important account update\",\n",
        "        \"Lottery winnings\",\n",
        "        \"New device sign-in alert\",\n",
        "        \"Urgent tax payment request\",\n",
        "        \"Account suspension alert\"\n",
        "    ],\n",
        "    'email_text': [\n",
        "        \"1-Good afternoon,Hope you are well.The management company asks for your right to rent share codes. Please can you send me the share codes to prove your right to rent for yourself and your partner.Thank you.\",\n",
        "        \"2-Welcome! Welcome! We'll transfer your loan as quickly as possible into your bank account. Our aim is to make your loan as easy as is possible.\",\n",
        "        \"3-Please use the above code to verify your email ID for signing into Bito Workspace.Thank you,Team Bito.\",\n",
        "        \"4-Hi, I hope you are well. I just wanted to follow up after the viewing we had on Friday at the Royal Winchester House. Have you made a decision on whether to proceed or not?\",\n",
        "        \"5-Hello there! We are so happy to help you get your loan. We promise to get the amount of your loan directly into your bank account as fast as we can. Our goal is to simplify the loan process for you. Get Loan Now\",\n",
        "        \"6-This is to confirm that your viewing has been arranged for Friday, 14 June 2024 at 3:00 PM at the following properties. The meeting point is at Rrakell\",\n",
        "        \"7-Good day,Hope all is well!.Thank you for your interest in Cromwell Medical Staffing!In order to complete your registration with us, there are a few steps that need to be completed.Step 1 - Internal documents to be completed and signed by yourself.\",\n",
        "        \"8-We’ve noticed suspicious activity on your account. Please review your recent transactions and secure your account immediately.\",\n",
        "        \"9-Your account will be deactivated within 24 hours due to inactivity. Please log in now to avoid losing access.\",\n",
        "        \"10-Your account has been locked due to multiple login attempts. Click here to secure your account.\",\n",
        "        \"11-Congratulations! You've won a prize! Claim your reward now by clicking this link.\",\n",
        "        \"12-Dear customer, please find attached your monthly billing statement. Review the details and ensure timely payment.\",\n",
        "        \"13-Thank you for your job application. We will review your details and get back to you shortly.\",\n",
        "        \"13-This is a reminder that your payment is overdue. Please make the payment at your earliest convenience to avoid penalties.\",\n",
        "        \"14-We received a request to reset your password. If this was not you, please ignore this email.\",\n",
        "        \"15-Dear customer, we are updating our privacy policies. Please review the changes here.\",\n",
        "        \"16-You have won a large sum in our lottery draw! Claim your winnings by clicking here.\",\n",
        "        \"17-We detected a sign-in from a new device. Please verify if this was you.\",\n",
        "        \"18-This is a final notice for your overdue tax payment. Avoid legal action by making payment now.\",\n",
        "        \"19-Your account has been suspended due to suspicious activity. Reactivate it by verifying your identity.\"\n",
        "    ],\n",
        "    'true_labels': [\n",
        "        0, 1, 0, 0, 1, 0, 0, 1, 1, 1, 1, 0, 0, 1, 0, 0, 1, 0, 1, 1  # 0: non-phishing, 1: phishing\n",
        "    ]\n",
        "}\n",
        "df = pd.DataFrame(test_data_extended)\n"
      ]
    },
    {
      "cell_type": "code",
      "execution_count": 23,
      "metadata": {
        "id": "PTxN3mOp7kMj"
      },
      "outputs": [],
      "source": [
        "from sklearn.feature_extraction.text import TfidfVectorizer\n",
        "\n",
        "loaded_log_model = joblib.load('/content/Log_model.pkl')\n",
        "\n",
        "# Initialize lists to store descriptors, predictions, and true labels\n",
        "descriptors = []\n",
        "predictions = []\n",
        "true_labels = []\n",
        "email_texts = []\n",
        "\n",
        "# Iterate over each row in the dataframe\n",
        "for index, row in df.iterrows():\n",
        "    descriptor = row['descriptor']\n",
        "    email_text = row['email_text']\n",
        "    true_label = row['true_labels']\n",
        "\n",
        "    # Preprocess the email text (assuming 'vectorizer' is your TF-IDF vectorizer)\n",
        "    X_email = tfidf.transform([email_text])\n",
        "\n",
        "    # Predict using the logistic model\n",
        "    predicted_label = loaded_log_model.predict(X_email)\n",
        "\n",
        "    # Append the descriptor, predicted label, true label, and email text to their respective lists\n",
        "    descriptors.append(descriptor)\n",
        "    predictions.append(predicted_label[0])  # Since predicted_label is an array, get the first element\n",
        "    true_labels.append(true_label)\n",
        "    email_texts.append(email_text)\n",
        "\n",
        "# Convert lists to numpy arrays for easier comparison\n",
        "descriptors = np.array(descriptors)\n",
        "predictions = np.array(predictions)\n",
        "true_labels = np.array(true_labels)\n",
        "email_texts = np.array(email_texts)"
      ]
    },
    {
      "cell_type": "code",
      "execution_count": 24,
      "metadata": {
        "colab": {
          "base_uri": "https://localhost:8080/"
        },
        "id": "Z0kP86uP7mXk",
        "outputId": "44f73596-7aa9-4e49-9862-e31035199bde"
      },
      "outputs": [
        {
          "name": "stdout",
          "output_type": "stream",
          "text": [
            "\n",
            "Email text: 1-Good afternoon,Hope you are well.The management company asks for your right to rent share codes. Please can you send me the share codes to prove your right to rent for yourself and your partner.Thank you.\n",
            "\n",
            "Descriptor: Right To rent request\n",
            "Predicted label: Fraud\n",
            "True label: Non-Fraud\n",
            "\n",
            "Email text: 2-Welcome! Welcome! We'll transfer your loan as quickly as possible into your bank account. Our aim is to make your loan as easy as is possible.\n",
            "\n",
            "Descriptor: Unknown loan request\n",
            "Predicted label: Fraud\n",
            "True label: Fraud\n",
            "\n",
            "Email text: 3-Please use the above code to verify your email ID for signing into Bito Workspace.Thank you,Team Bito.\n",
            "\n",
            "Descriptor: Email verification\n",
            "Predicted label: Non-Fraud\n",
            "True label: Non-Fraud\n",
            "\n",
            "Email text: 4-Hi, I hope you are well. I just wanted to follow up after the viewing we had on Friday at the Royal Winchester House. Have you made a decision on whether to proceed or not?\n",
            "\n",
            "Descriptor: Follow up with letting agency\n",
            "Predicted label: Non-Fraud\n",
            "True label: Non-Fraud\n",
            "\n",
            "Email text: 5-Hello there! We are so happy to help you get your loan. We promise to get the amount of your loan directly into your bank account as fast as we can. Our goal is to simplify the loan process for you. Get Loan Now\n",
            "\n",
            "Descriptor: Unknown loan approval!\n",
            "Predicted label: Fraud\n",
            "True label: Fraud\n",
            "\n",
            "Email text: 6-This is to confirm that your viewing has been arranged for Friday, 14 June 2024 at 3:00 PM at the following properties. The meeting point is at Rrakell\n",
            "\n",
            "Descriptor: Confirmation for a property view\n",
            "Predicted label: Non-Fraud\n",
            "True label: Non-Fraud\n",
            "\n",
            "Email text: 7-Good day,Hope all is well!.Thank you for your interest in Cromwell Medical Staffing!In order to complete your registration with us, there are a few steps that need to be completed.Step 1 - Internal documents to be completed and signed by yourself.\n",
            "\n",
            "Descriptor: Registration for Agency\n",
            "Predicted label: Fraud\n",
            "True label: Non-Fraud\n",
            "\n",
            "Email text: 8-We’ve noticed suspicious activity on your account. Please review your recent transactions and secure your account immediately.\n",
            "\n",
            "Descriptor: Suspicious activity alert\n",
            "Predicted label: Fraud\n",
            "True label: Fraud\n",
            "\n",
            "Email text: 9-Your account will be deactivated within 24 hours due to inactivity. Please log in now to avoid losing access.\n",
            "\n",
            "Descriptor: Account deactivation warning\n",
            "Predicted label: Fraud\n",
            "True label: Fraud\n",
            "\n",
            "Email text: 10-Your account has been locked due to multiple login attempts. Click here to secure your account.\n",
            "\n",
            "Descriptor: Secure your account\n",
            "Predicted label: Fraud\n",
            "True label: Fraud\n",
            "\n",
            "Email text: 11-Congratulations! You've won a prize! Claim your reward now by clicking this link.\n",
            "\n",
            "Descriptor: Prize-winning notification\n",
            "Predicted label: Fraud\n",
            "True label: Fraud\n",
            "\n",
            "Email text: 12-Dear customer, please find attached your monthly billing statement. Review the details and ensure timely payment.\n",
            "\n",
            "Descriptor: Monthly billing statement\n",
            "Predicted label: Fraud\n",
            "True label: Non-Fraud\n",
            "\n",
            "Email text: 13-Thank you for your job application. We will review your details and get back to you shortly.\n",
            "\n",
            "Descriptor: Job application confirmation\n",
            "Predicted label: Non-Fraud\n",
            "True label: Non-Fraud\n",
            "\n",
            "Email text: 13-This is a reminder that your payment is overdue. Please make the payment at your earliest convenience to avoid penalties.\n",
            "\n",
            "Descriptor: Payment overdue reminder\n",
            "Predicted label: Fraud\n",
            "True label: Fraud\n",
            "\n",
            "Email text: 14-We received a request to reset your password. If this was not you, please ignore this email.\n",
            "\n",
            "Descriptor: Password reset request\n",
            "Predicted label: Fraud\n",
            "True label: Non-Fraud\n",
            "\n",
            "Email text: 15-Dear customer, we are updating our privacy policies. Please review the changes here.\n",
            "\n",
            "Descriptor: Important account update\n",
            "Predicted label: Non-Fraud\n",
            "True label: Non-Fraud\n",
            "\n",
            "Email text: 16-You have won a large sum in our lottery draw! Claim your winnings by clicking here.\n",
            "\n",
            "Descriptor: Lottery winnings\n",
            "Predicted label: Fraud\n",
            "True label: Fraud\n",
            "\n",
            "Email text: 17-We detected a sign-in from a new device. Please verify if this was you.\n",
            "\n",
            "Descriptor: New device sign-in alert\n",
            "Predicted label: Fraud\n",
            "True label: Non-Fraud\n",
            "\n",
            "Email text: 18-This is a final notice for your overdue tax payment. Avoid legal action by making payment now.\n",
            "\n",
            "Descriptor: Urgent tax payment request\n",
            "Predicted label: Fraud\n",
            "True label: Fraud\n",
            "\n",
            "Email text: 19-Your account has been suspended due to suspicious activity. Reactivate it by verifying your identity.\n",
            "\n",
            "Descriptor: Account suspension alert\n",
            "Predicted label: Fraud\n",
            "True label: Fraud\n"
          ]
        }
      ],
      "source": [
        "# Print descriptors, predicted labels, true labels, and email texts\n",
        "for i in range(len(descriptors)):\n",
        "    print(f\"\\nEmail text: {email_texts[i]}\")\n",
        "    print(f\"\\nDescriptor: {descriptors[i]}\")\n",
        "    print(f\"Predicted label: {'Fraud' if predictions[i] == 1 else 'Non-Fraud'}\")\n",
        "    print(f\"True label: {'Fraud' if true_labels[i] == 1 else 'Non-Fraud'}\")"
      ]
    },
    {
      "cell_type": "code",
      "execution_count": 24,
      "metadata": {
        "id": "2Lj49nnOWA0e"
      },
      "outputs": [],
      "source": []
    }
  ],
  "metadata": {
    "accelerator": "GPU",
    "colab": {
      "gpuType": "T4",
      "provenance": []
    },
    "kernelspec": {
      "display_name": "Python 3",
      "name": "python3"
    },
    "language_info": {
      "name": "python"
    }
  },
  "nbformat": 4,
  "nbformat_minor": 0
}
